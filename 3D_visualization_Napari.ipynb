{
 "cells": [
  {
   "cell_type": "code",
   "execution_count": 1,
   "id": "017268d8",
   "metadata": {},
   "outputs": [],
   "source": [
    "gui qt5"
   ]
  },
  {
   "cell_type": "code",
   "execution_count": 2,
   "id": "65b364c6",
   "metadata": {},
   "outputs": [],
   "source": [
    "import napari\n",
    "import skimage\n",
    "import sys\n",
    "import os\n",
    "import cv2\n",
    "from napari_ome_zarr import napari_get_reader\n",
    "import PIL\n",
    "from PIL import Image\n",
    "import tifffile\n",
    "import numpy as np\n",
    "from PIL import TiffImagePlugin\n",
    "import zarr as z\n",
    "import tifffile as tiff"
   ]
  },
  {
   "cell_type": "code",
   "execution_count": null,
   "id": "c8fa44be",
   "metadata": {},
   "outputs": [],
   "source": [
    "input_directory = \"/home/rajalakshmi/Segmentation/mv_heart/2020_01_21_Rat_4_Heart_Rec/\""
   ]
  },
  {
   "cell_type": "code",
   "execution_count": null,
   "id": "34fbfc58",
   "metadata": {},
   "outputs": [],
   "source": [
    "sorted(os.listdir(input_directory))"
   ]
  },
  {
   "cell_type": "code",
   "execution_count": null,
   "id": "34e82527",
   "metadata": {},
   "outputs": [],
   "source": [
    "output = '/home/rajalakshmi/Segmentation/mv_heart/2020_01_21_Rat_4_Heart_Rec_tiff/'"
   ]
  },
  {
   "cell_type": "code",
   "execution_count": null,
   "id": "de257693",
   "metadata": {},
   "outputs": [],
   "source": [
    "for filename in sorted(os.listdir(input_directory)):\n",
    "    filepath = '/home/rajalakshmi/Segmentation/mv_heart/2020_01_21_Rat_4_Heart_Rec/' + filename\n",
    "    if filename.endswith(\".bmp\"):\n",
    "     img = Image.open(filepath).convert('RGB')\n",
    "     #tiff.imwrite(file_name, img, bigtiff=True, photometric='rgb')\n",
    "     img.save('/home/rajalakshmi/Segmentation/mv_heart/2020_01_21_Rat_4_Heart_Rec_tiff/' + filename.replace('.bmp' , '.tiff'), format='TIFF', compression='tiff_lzw')"
   ]
  },
  {
   "cell_type": "code",
   "execution_count": 4,
   "id": "31924ea8",
   "metadata": {},
   "outputs": [
    {
     "name": "stdout",
     "output_type": "stream",
     "text": [
      "Command String :  bioformats2raw /home/rajalakshmi/Segmentation/mv_heart/2020_01_21_Rat_4_Heart_Rec_tiff_merged.tif /home/rajalakshmi/Segmentation/mv_heart/2020_01_21_Rat_4_Heart_Rec_tiff_merged.zarr/\n"
     ]
    },
    {
     "name": "stderr",
     "output_type": "stream",
     "text": [
      "/home/rajalakshmi/anaconda3/envs/napari-env/lib/python3.9/site-packages/napari/layers/image/image.py:617: UserWarning: Multiscale rendering is only supported in 2D. In 3D, only the lowest resolution scale is displayed\n",
      "  warnings.warn(\n"
     ]
    }
   ],
   "source": [
    "\n",
    "bf2raw_dir = '/home/rajalakshmi/Segmentation/bioformats2raw-0.2.0/'\n",
    "\n",
    "bf2raw = os.path.join(bf2raw_dir, \"bioformats2raw\")\n",
    "\n",
    "tifffile = \"/home/rajalakshmi/Segmentation/mv_heart/2020_01_21_Rat_4_Heart_Rec_tiff_merged.tif\"\n",
    "\n",
    "os.chdir(bf2raw_dir)\n",
    "\n",
    "cmd = 'bioformats2raw /home/rajalakshmi/Segmentation/mv_heart/2020_01_21_Rat_4_Heart_Rec_tiff_merged.tif /home/rajalakshmi/Segmentation/mv_heart/2020_01_21_Rat_4_Heart_Rec_tiff_merged.zarr/' \n",
    "\n",
    "print('Command String : ', cmd)\n"
   ]
  },
  {
   "cell_type": "code",
   "execution_count": null,
   "id": "b4e471d0",
   "metadata": {},
   "outputs": [],
   "source": [
    "os.system(cmd)"
   ]
  },
  {
   "cell_type": "code",
   "execution_count": 3,
   "id": "c054feca",
   "metadata": {},
   "outputs": [],
   "source": [
    "def napari_view():\n",
    "    path = '/home/rajalakshmi/Segmentation/mv_heart/2020_01_21_Rat_4_Heart_Rec_tiff_merged.zarr/0'\n",
    "    \n",
    "    viewer = napari.Viewer()\n",
    "    \n",
    "    viewer.open('/home/rajalakshmi/Segmentation/mv_heart/2020_01_21_Rat_4_Heart_Rec_tiff_merged.zarr/0')\n",
    "    \n",
    "    napari.run()\n",
    "    \n",
    "napari_view()"
   ]
  },
  {
   "cell_type": "code",
   "execution_count": null,
   "id": "9430df6f",
   "metadata": {},
   "outputs": [],
   "source": []
  }
 ],
 "metadata": {
  "kernelspec": {
   "display_name": "napari-env",
   "language": "python",
   "name": "napari-env"
  },
  "language_info": {
   "codemirror_mode": {
    "name": "ipython",
    "version": 3
   },
   "file_extension": ".py",
   "mimetype": "text/x-python",
   "name": "python",
   "nbconvert_exporter": "python",
   "pygments_lexer": "ipython3",
   "version": "3.9.10"
  }
 },
 "nbformat": 4,
 "nbformat_minor": 5
}
